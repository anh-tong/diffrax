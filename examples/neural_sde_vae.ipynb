{
 "cells": [
  {
   "cell_type": "markdown",
   "metadata": {},
   "source": [
    "# Neural SDE (VAE)\n",
    "\n",
    "This implementation is based on the Pytorch version of Latent SDE from [`torchsde`](https://github.com/google-research/torchsde/blob/master/examples/latent_sde_lorenz.py) library. \n",
    "\n",
    "The training follows a Bayesian inference procedure where we assume the prior of an SDE has a simple drift function (`drift_prior`).\n",
    "\n",
    "The posterior is approximated by a neural SDE with a more complex drift function (`drift_posterior`). Note that both prior and posterior share the same diffusion.\n",
    "\n",
    "The objective function is computed via evidence lower bound (ELBO) which requires getting Kullback-Leibler (KL) divergence between the prior and the approximated posterior.\n",
    "\n",
    "The KL divergence turns out to be a result of Girsanov's theorem. The function `diffrax.misc.sde_kl_divergence` allows us to augment the original SDE with KL estimation.\n",
    "\n",
    "This notebook for this example can be found [here](https://github.com/patrick-kidger/diffrax/blob/main/examples/neural_sde_vae.ipynb). See [this](https://docs.kidger.site/diffrax/examples/neural_sde_gan/) for an alternative way of training neural SDEs using GAN techniques.\n",
    "\n",
    "**Reference**\n",
    "```bibtex\n",
    "@phdthesis{kidger2021on,\n",
    "    title={{O}n {N}eural {D}ifferential {E}quations},\n",
    "    author={Patrick Kidger},\n",
    "    year={2021},\n",
    "    school={University of Oxford},\n",
    "}\n",
    "\n",
    "@article{li2020scalable,\n",
    "  title={Scalable gradients for stochastic differential equations},\n",
    "  author={Li, Xuechen and Wong, Ting-Kam Leonard and Chen, Ricky T. Q. and Duvenaud, David},\n",
    "  journal={International Conference on Artificial Intelligence and Statistics},\n",
    "  year={2020}\n",
    "}\n",
    "```"
   ]
  },
  {
   "cell_type": "code",
   "execution_count": 1,
   "metadata": {
    "execution": {
     "iopub.execute_input": "2022-05-30T11:52:39.187912Z",
     "iopub.status.busy": "2022-05-30T11:52:39.187405Z",
     "iopub.status.idle": "2022-05-30T11:52:40.756538Z",
     "shell.execute_reply": "2022-05-30T11:52:40.755416Z"
    }
   },
   "outputs": [],
   "source": [
    "import math\n",
    "from typing import List\n",
    "\n",
    "import diffrax\n",
    "import equinox as eqx\n",
    "import jax\n",
    "import jax.numpy as jnp\n",
    "import jax.random as jrandom\n",
    "import matplotlib.pyplot as plt\n",
    "import optax"
   ]
  },
  {
   "cell_type": "markdown",
   "metadata": {},
   "source": [
    "Generate Lorenz data according to the following SDE\n",
    "$$\n",
    "dX_t = f(X_t)dt + g(X_t)dW_t, \\quad t \\in [0,2],\n",
    "$$\n",
    "where \n",
    "- $X=[x_1, x_2, x_3]^\\top$,\n",
    "- $f(X) = [a_1 (x_2 - x_1), a_2x_1 - x_2 - x_1x_3, x_1 x_2 - a_3 x_3]^\\top$,\n",
    "- $g(X) = [b_1x_1, b_2x_2, b_3x_3]^\\top$."
   ]
  },
  {
   "cell_type": "code",
   "execution_count": 2,
   "metadata": {
    "execution": {
     "iopub.execute_input": "2022-05-30T11:52:40.761446Z",
     "iopub.status.busy": "2022-05-30T11:52:40.760769Z",
     "iopub.status.idle": "2022-05-30T11:52:40.771609Z",
     "shell.execute_reply": "2022-05-30T11:52:40.770750Z"
    }
   },
   "outputs": [],
   "source": [
    "def generate_lorenz(\n",
    "    t0=0.0,  # set start time\n",
    "    t1=2.0,  # set end time\n",
    "    batch_size=1024,  # sumber of trajectories\n",
    "    a=(10.0, 28.0, 8.0 / 3),  # coefficient for drift function\n",
    "    b=(0.1, 0.28, 0.3),  # coefficient for difussion funcion\n",
    "    normalize=True,  # whether to normialize data\n",
    "    noise_std=0.01,  # add noise to training data\n",
    "    *,\n",
    "    key,\n",
    "):\n",
    "\n",
    "    ts = jnp.linspace(t0, t1, num=100)\n",
    "\n",
    "    # define drift function\n",
    "    def drift(t, y, args):\n",
    "        a1, a2, a3 = a\n",
    "        x1, x2, x3 = y\n",
    "\n",
    "        f1 = a1 * (x2 - x1)\n",
    "        f2 = a2 * x1 - x2 - x1 * x3\n",
    "        f3 = x1 * x2 - a3 * x3\n",
    "        return jnp.concatenate([f1[None], f2[None], f3[None]])\n",
    "\n",
    "    # define diffusion function\n",
    "    def diffusion(t, y, args):\n",
    "        b1, b2, b3 = b\n",
    "        x1, x2, x3 = y\n",
    "\n",
    "        g1 = x1 * b1\n",
    "        g2 = x2 * b2\n",
    "        g3 = x3 * b3\n",
    "        return jnp.concatenate([g1[None], g2[None], g3[None]])\n",
    "\n",
    "    # sample via SDE solver\n",
    "    def integrate(y0, path_key):\n",
    "        bm = diffrax.UnsafeBrownianPath(shape=(3,), key=path_key)\n",
    "        lorenz_sde = diffrax.MultiTerm(\n",
    "            diffrax.ODETerm(drift), diffrax.ControlTerm(diffusion, bm)\n",
    "        )\n",
    "        saveat = diffrax.SaveAt(ts=ts)\n",
    "        solver = diffrax.Euler()\n",
    "        sol = diffrax.diffeqsolve(\n",
    "            lorenz_sde,\n",
    "            solver,\n",
    "            t0=t0,\n",
    "            t1=t1,\n",
    "            y0=y0,\n",
    "            saveat=saveat,\n",
    "            adjoint=diffrax.NoAdjoint(),\n",
    "            dt0=1e-3,\n",
    "        )\n",
    "        return sol.ys\n",
    "\n",
    "    y0_key, bm_key, noise_key = jrandom.split(key, 3)\n",
    "    y0 = jrandom.normal(key=y0_key, shape=(batch_size, 3))\n",
    "    path_key = jrandom.split(bm_key, batch_size)\n",
    "    ys = jax.vmap(integrate)(y0, path_key)\n",
    "\n",
    "    if normalize:\n",
    "        mean_y = jnp.mean(ys, axis=(0, 1), keepdims=True)\n",
    "        std_y = jnp.std(ys, axis=(0, 1), keepdims=True)\n",
    "        ys = (ys - mean_y) / std_y + jrandom.normal(\n",
    "            key=noise_key, shape=ys.shape\n",
    "        ) * noise_std\n",
    "    else:\n",
    "        ys = ys + jrandom.normal(key=noise_key, shape=ys.shape) * noise_std\n",
    "\n",
    "    return ts, ys"
   ]
  },
  {
   "cell_type": "markdown",
   "metadata": {},
   "source": [
    "`Encoder` will encode the trajectories of data into a"
   ]
  },
  {
   "cell_type": "code",
   "execution_count": 3,
   "metadata": {
    "execution": {
     "iopub.execute_input": "2022-05-30T11:52:40.775654Z",
     "iopub.status.busy": "2022-05-30T11:52:40.775312Z",
     "iopub.status.idle": "2022-05-30T11:52:40.783717Z",
     "shell.execute_reply": "2022-05-30T11:52:40.783037Z"
    }
   },
   "outputs": [],
   "source": [
    "class Encoder(eqx.Module):\n",
    "\n",
    "    gru: eqx.nn.GRUCell\n",
    "    linear: eqx.nn.Linear\n",
    "\n",
    "    def __init__(self, input_size, hidden_size, output_size, *, key) -> None:\n",
    "        super().__init__()\n",
    "        gru_key, linear_key = jrandom.split(key)\n",
    "        self.gru = eqx.nn.GRUCell(\n",
    "            input_size=input_size, hidden_size=hidden_size, key=gru_key\n",
    "        )\n",
    "        self.linear = eqx.nn.Linear(\n",
    "            in_features=hidden_size, out_features=output_size, key=linear_key\n",
    "        )\n",
    "\n",
    "    def __call__(self, x):\n",
    "        def scan_fn(state, input):\n",
    "            new_state = self.gru(input, state)\n",
    "            return new_state, new_state\n",
    "\n",
    "        init_state = jnp.zeros(self.gru.hidden_size)\n",
    "        _, out = jax.lax.scan(scan_fn, init_state, x)\n",
    "        out = jax.vmap(self.linear)(out)\n",
    "        return out"
   ]
  },
  {
   "cell_type": "markdown",
   "metadata": {},
   "source": [
    "Define drift functions and a diffusion function of neural SDEs"
   ]
  },
  {
   "cell_type": "code",
   "execution_count": 4,
   "metadata": {
    "execution": {
     "iopub.execute_input": "2022-05-30T11:52:40.786915Z",
     "iopub.status.busy": "2022-05-30T11:52:40.786464Z",
     "iopub.status.idle": "2022-05-30T11:52:40.797536Z",
     "shell.execute_reply": "2022-05-30T11:52:40.796842Z"
    }
   },
   "outputs": [],
   "source": [
    "class DriftPosterior(eqx.Module):\n",
    "\n",
    "    net: eqx.nn.MLP\n",
    "\n",
    "    def __init__(self, latent_size, context_size, hidden_size, *, key) -> None:\n",
    "\n",
    "        self.net = eqx.nn.MLP(\n",
    "            in_size=latent_size + context_size,\n",
    "            width_size=hidden_size,\n",
    "            out_size=latent_size,\n",
    "            depth=3,\n",
    "            activation=jax.nn.softplus,\n",
    "            key=key,\n",
    "        )\n",
    "\n",
    "    def __call__(self, t, y, args):\n",
    "        return self.net(y)\n",
    "\n",
    "\n",
    "class DriftPrior(eqx.Module):\n",
    "\n",
    "    net: eqx.nn.MLP\n",
    "\n",
    "    def __init__(self, latent_size, hidden_size, *, key):\n",
    "        self.net = eqx.nn.MLP(\n",
    "            in_size=latent_size,\n",
    "            width_size=hidden_size,\n",
    "            out_size=latent_size,\n",
    "            depth=3,\n",
    "            activation=jax.nn.softplus,\n",
    "            key=key,\n",
    "        )\n",
    "\n",
    "    def __call__(self, t, y, args):\n",
    "        return self.net(y)\n",
    "\n",
    "\n",
    "class Diffusion(eqx.Module):\n",
    "\n",
    "    nets: List[eqx.nn.MLP]\n",
    "\n",
    "    def __init__(self, latent_size, hidden_size, *, key):\n",
    "\n",
    "        keys = jrandom.split(key, latent_size)\n",
    "        self.nets = [\n",
    "            eqx.nn.MLP(\n",
    "                in_size=1,\n",
    "                width_size=hidden_size,\n",
    "                out_size=1,\n",
    "                depth=2,\n",
    "                activation=jax.nn.softplus,\n",
    "                final_activation=jax.nn.sigmoid,\n",
    "                key=i_key,\n",
    "            )\n",
    "            for i_key in keys\n",
    "        ]\n",
    "\n",
    "    def __call__(self, t, y, args):\n",
    "        y = jnp.split(y, indices_or_sections=len(self.nets))\n",
    "        out = [net_i(y_i) for net_i, y_i in zip(self.nets, y)]\n",
    "        return jnp.concatenate(out, axis=0)"
   ]
  },
  {
   "cell_type": "code",
   "execution_count": 5,
   "metadata": {
    "execution": {
     "iopub.execute_input": "2022-05-30T11:52:40.800413Z",
     "iopub.status.busy": "2022-05-30T11:52:40.800091Z",
     "iopub.status.idle": "2022-05-30T11:52:40.805112Z",
     "shell.execute_reply": "2022-05-30T11:52:40.804417Z"
    }
   },
   "outputs": [],
   "source": [
    "def normal_logprob(y, loc, scale):\n",
    "    return -0.5 * ((y - loc) / scale) ** 2 - jnp.log(scale) - 0.5 * jnp.log(2 * jnp.pi)\n",
    "\n",
    "\n",
    "def normal_kl_divergence(loc1, scale1, loc2, scale2):\n",
    "    return 0.5 * (\n",
    "        (scale1 / scale2) ** 2\n",
    "        + (loc2 - loc1) ** 2 / scale2**2\n",
    "        - 1\n",
    "        + jnp.log(scale2 / scale1)\n",
    "    )"
   ]
  },
  {
   "cell_type": "markdown",
   "metadata": {},
   "source": [
    "Main model with methods solving (augmented) SDE and generating samples"
   ]
  },
  {
   "cell_type": "code",
   "execution_count": 6,
   "metadata": {
    "execution": {
     "iopub.execute_input": "2022-05-30T11:52:40.808505Z",
     "iopub.status.busy": "2022-05-30T11:52:40.807981Z",
     "iopub.status.idle": "2022-05-30T11:52:40.831278Z",
     "shell.execute_reply": "2022-05-30T11:52:40.830598Z"
    }
   },
   "outputs": [],
   "source": [
    "class LatentSDE(eqx.Module):\n",
    "\n",
    "    encoder: eqx.Module\n",
    "    posterior_drift: eqx.Module\n",
    "    prior_drift: eqx.Module\n",
    "    diffusion: eqx.Module\n",
    "    qz0_net: eqx.nn.Linear\n",
    "    projector: eqx.nn.Linear\n",
    "    pz0_mean: jnp.ndarray\n",
    "    pz0_logstd: jnp.ndarray\n",
    "    t0: float\n",
    "    t1: float\n",
    "    latent_size: int\n",
    "\n",
    "    def __init__(\n",
    "        self, data_size, latent_size, context_size, hidden_size, t0, t1, *, key\n",
    "    ) -> None:\n",
    "        super().__init__()\n",
    "        self.t0, self.t1 = t0, t1\n",
    "        self.latent_size = latent_size\n",
    "        keys = jrandom.split(key, num=6)\n",
    "        self.encoder = Encoder(\n",
    "            input_size=data_size,\n",
    "            hidden_size=hidden_size,\n",
    "            output_size=context_size,\n",
    "            key=keys[0],\n",
    "        )\n",
    "        self.qz0_net = eqx.nn.Linear(\n",
    "            context_size, latent_size + latent_size, key=keys[1]\n",
    "        )\n",
    "\n",
    "        self.posterior_drift = DriftPosterior(\n",
    "            latent_size=latent_size,\n",
    "            context_size=context_size,\n",
    "            hidden_size=hidden_size,\n",
    "            key=keys[2],\n",
    "        )\n",
    "        self.prior_drift = DriftPrior(\n",
    "            latent_size=latent_size, hidden_size=hidden_size, key=keys[3]\n",
    "        )\n",
    "        self.diffusion = Diffusion(\n",
    "            latent_size=latent_size, hidden_size=hidden_size, key=keys[4]\n",
    "        )\n",
    "        self.projector = eqx.nn.Linear(latent_size, data_size, key=keys[5])\n",
    "        self.pz0_mean = jnp.zeros(shape=(1, latent_size))\n",
    "        self.pz0_logstd = jnp.zeros(shape=(1, latent_size))\n",
    "\n",
    "    @property\n",
    "    def py0_std(self):\n",
    "        return math.exp(0.5 * self.py0_logvar)\n",
    "\n",
    "    @property\n",
    "    def qy0_std(self):\n",
    "        return jnp.exp(0.5 * self.qy0_logvar)\n",
    "\n",
    "    def integrate(self, y0, solver, context, dt=1e-2, saveat=None, *, key):\n",
    "        bm = diffrax.VirtualBrownianTree(\n",
    "            t0=self.t0, t1=self.t1, shape=(self.latent_size,), tol=1e-3, key=key\n",
    "        )\n",
    "\n",
    "        control_term = diffrax.WeaklyDiagonalControlTerm(self.diffusion, bm)\n",
    "        posterior_sde = diffrax.MultiTerm(\n",
    "            diffrax.ODETerm(self.posterior_drift), control_term\n",
    "        )\n",
    "        prior_sde = diffrax.MultiTerm(diffrax.ODETerm(self.prior_drift), control_term)\n",
    "\n",
    "        aug_sde, aug_y0 = diffrax.sde_kl_divergence(\n",
    "            sde1=posterior_sde, sde2=prior_sde, context=context, y0=y0\n",
    "        )\n",
    "\n",
    "        sol = diffrax.diffeqsolve(\n",
    "            aug_sde, solver, t0=self.t0, t1=self.t1, dt0=dt, y0=aug_y0, saveat=saveat\n",
    "        )\n",
    "        return sol.ys\n",
    "\n",
    "    def __call__(self, xs, ts, *, key):\n",
    "\n",
    "        solver = diffrax.Euler()\n",
    "        saveat = diffrax.SaveAt(ts=ts)\n",
    "\n",
    "        def solve(xs, key):\n",
    "            eps_key, bm_key = jrandom.split(key)\n",
    "            ctx = self.encoder(jnp.flip(xs))\n",
    "            ctx = jnp.flip(ctx)\n",
    "\n",
    "            def context(t):\n",
    "                # find the index which is closet to the current time\n",
    "                t_index = jnp.searchsorted(ts, t, side=\"right\")\n",
    "                # return the corresponding context\n",
    "                return ctx[t_index]\n",
    "\n",
    "            qz0_mean, qz0_logstd = jnp.split(\n",
    "                self.qz0_net(ctx[0]), indices_or_sections=2, axis=-1\n",
    "            )\n",
    "\n",
    "            eps = jrandom.normal(key=eps_key, shape=qz0_logstd.shape)\n",
    "            z0 = qz0_mean + jnp.exp(qz0_logstd) * eps\n",
    "\n",
    "            zs, logpq_path = self.integrate(\n",
    "                z0, solver=solver, context=context, saveat=saveat, key=bm_key\n",
    "            )\n",
    "\n",
    "            logpq0 = normal_kl_divergence(\n",
    "                loc1=self.pz0_mean,\n",
    "                scale1=jnp.exp(self.pz0_logstd),\n",
    "                loc2=qz0_mean,\n",
    "                scale2=jnp.exp(qz0_logstd),\n",
    "            )\n",
    "            logpq = logpq0.sum() + logpq_path[-1]\n",
    "            return zs, logpq\n",
    "\n",
    "        batch_solve = jax.vmap(solve)\n",
    "        keys = jrandom.split(key, num=xs.shape[0])\n",
    "        zs, logpq = batch_solve(xs, keys)\n",
    "\n",
    "        xs_pred = jax.vmap(jax.vmap(self.projector))(zs)\n",
    "\n",
    "        return xs_pred, logpq\n",
    "\n",
    "    def sample(self, batch_size, ts, dt=1e-2, *, key):\n",
    "        eps_key, bm_key = jrandom.split(key)\n",
    "\n",
    "        solver = diffrax.Euler()\n",
    "        saveat = diffrax.SaveAt(ts=ts)\n",
    "\n",
    "        def solve(z0, key):\n",
    "            bm = diffrax.VirtualBrownianTree(\n",
    "                t0=self.t0, t1=self.t1, shape=(self.latent_size,), tol=1e-3, key=key\n",
    "            )\n",
    "            control_term = diffrax.WeaklyDiagonalControlTerm(self.diffusion, bm)\n",
    "            sde = diffrax.MultiTerm(diffrax.ODETerm(self.prior_drift), control_term)\n",
    "            sol = diffrax.diffeqsolve(\n",
    "                sde, solver, t0=self.t0, t1=self.t1, dt0=dt, y0=z0, saveat=saveat\n",
    "            )\n",
    "            return sol.ys\n",
    "\n",
    "        eps = jrandom.normal(shape=(batch_size, *self.pz0_mean.shape[1:]), key=eps_key)\n",
    "        z0s = self.pz0_mean + jnp.exp(self.pz0_logstd) * eps\n",
    "        bm_keys = jrandom.split(bm_key, num=batch_size)\n",
    "        batch_solve = jax.vmap(solve)\n",
    "        zs = batch_solve(z0s, bm_keys)\n",
    "        xs = jax.vmap(jax.vmap(self.projector))(zs)\n",
    "\n",
    "        return xs"
   ]
  },
  {
   "cell_type": "markdown",
   "metadata": {},
   "source": [
    "Visualisation function"
   ]
  },
  {
   "cell_type": "code",
   "execution_count": 7,
   "metadata": {
    "execution": {
     "iopub.execute_input": "2022-05-30T11:52:40.834025Z",
     "iopub.status.busy": "2022-05-30T11:52:40.833752Z",
     "iopub.status.idle": "2022-05-30T11:52:40.838882Z",
     "shell.execute_reply": "2022-05-30T11:52:40.838307Z"
    }
   },
   "outputs": [],
   "source": [
    "def visualize_data(ys, num_samples=10):\n",
    "\n",
    "    fig = plt.figure()\n",
    "    ax = fig.add_subplot(projection=\"3d\")\n",
    "    z1, z2, z3 = jnp.split(ys, indices_or_sections=3, axis=-1)\n",
    "\n",
    "    # plot samples\n",
    "    [ax.plot(z1[i, :, 0], z2[i, :, 0], z3[i, :, 0]) for i in range(num_samples)]\n",
    "    # plot initial points\n",
    "    ax.scatter(\n",
    "        z1[:num_samples, 0, 0],\n",
    "        z2[:num_samples, 0, 0],\n",
    "        z3[:num_samples, 0, 0],\n",
    "        marker=\"x\",\n",
    "    )\n",
    "    ax.set_xlabel(r\"$x_1$\")\n",
    "    ax.set_ylabel(r\"$x_2$\")\n",
    "    ax.set_zlabel(r\"$x_3$\")"
   ]
  },
  {
   "cell_type": "code",
   "execution_count": 8,
   "metadata": {
    "execution": {
     "iopub.execute_input": "2022-05-30T11:52:40.841569Z",
     "iopub.status.busy": "2022-05-30T11:52:40.841268Z",
     "iopub.status.idle": "2022-05-30T11:52:40.844952Z",
     "shell.execute_reply": "2022-05-30T11:52:40.844296Z"
    }
   },
   "outputs": [],
   "source": [
    "batch_size = 1024\n",
    "latent_size = 4\n",
    "context_size = 64\n",
    "hidden_size = 128\n",
    "lr = 1e-2\n",
    "kl_anneal_iters = 1000\n",
    "scale = 0.01\n",
    "train_iters = 4000\n",
    "pause_freq = 100\n",
    "seed = 0"
   ]
  },
  {
   "cell_type": "code",
   "execution_count": 9,
   "metadata": {
    "execution": {
     "iopub.execute_input": "2022-05-30T11:52:40.847412Z",
     "iopub.status.busy": "2022-05-30T11:52:40.847128Z",
     "iopub.status.idle": "2022-05-30T11:52:50.377148Z",
     "shell.execute_reply": "2022-05-30T11:52:50.375984Z"
    }
   },
   "outputs": [
    {
     "ename": "",
     "evalue": "",
     "output_type": "error",
     "traceback": [
      "\u001b[1;31mCanceled future for execute_request message before replies were done"
     ]
    },
    {
     "ename": "",
     "evalue": "",
     "output_type": "error",
     "traceback": [
      "\u001b[1;31mThe Kernel crashed while executing code in the the current cell or a previous cell. Please review the code in the cell(s) to identify a possible cause of the failure. Click <a href='https://aka.ms/vscodeJupyterKernelCrash'>here</a> for more info. View Jupyter <a href='command:jupyter.viewOutput'>log</a> for further details."
     ]
    }
   ],
   "source": [
    "t0, t1 = 0.0, 2.0\n",
    "key = jrandom.PRNGKey(seed)\n",
    "data_key, sde_key, training_key, vis_key = jrandom.split(key, num=4)\n",
    "ts, xs = generate_lorenz(key=data_key)\n",
    "latent_sde = LatentSDE(\n",
    "    data_size=xs.shape[-1],\n",
    "    latent_size=latent_size,\n",
    "    context_size=context_size,\n",
    "    hidden_size=hidden_size,\n",
    "    t0=t0,\n",
    "    t1=t1,\n",
    "    key=sde_key,\n",
    ")\n",
    "\n",
    "optim = optax.adam(learning_rate=lr)\n",
    "opt_state = optim.init(eqx.filter(latent_sde, eqx.is_array))\n",
    "\n",
    "\n",
    "@eqx.filter_jit\n",
    "@eqx.filter_value_and_grad\n",
    "def make_step(model, kl_anneal_val):\n",
    "    xs_pred, logpq = model(xs, ts, key=training_key)\n",
    "    ll = normal_logprob(y=jnp.squeeze(xs_pred), loc=jnp.squeeze(xs), scale=scale)\n",
    "    ll = jnp.mean(jnp.sum(ll, axis=(-2, -1)), axis=-1)\n",
    "    kl = jnp.mean(logpq)\n",
    "    loss = -ll + kl * kl_anneal_val\n",
    "    return loss"
   ]
  },
  {
   "cell_type": "code",
   "execution_count": 10,
   "metadata": {
    "execution": {
     "iopub.execute_input": "2022-05-30T11:52:50.381876Z",
     "iopub.status.busy": "2022-05-30T11:52:50.381655Z",
     "iopub.status.idle": "2022-05-30T11:52:51.956948Z",
     "shell.execute_reply": "2022-05-30T11:52:51.955795Z"
    }
   },
   "outputs": [
    {
     "data": {
      "image/png": "[encoded data removed]",
      "text/plain": [
       "<Figure size 432x288 with 1 Axes>"
      ]
     },
     "metadata": {
      "needs_background": "light"
     },
     "output_type": "display_data"
    }
   ],
   "source": [
    "visualize_data(xs, num_samples=5)"
   ]
  },
  {
   "cell_type": "markdown",
   "metadata": {},
   "source": [
    "Performing optimization"
   ]
  },
  {
   "cell_type": "code",
   "execution_count": 11,
   "metadata": {
    "execution": {
     "iopub.execute_input": "2022-05-30T11:52:51.983134Z",
     "iopub.status.busy": "2022-05-30T11:52:51.982752Z",
     "iopub.status.idle": "2022-05-30T14:41:44.981148Z",
     "shell.execute_reply": "2022-05-30T14:41:44.980017Z"
    }
   },
   "outputs": [
    {
     "name": "stdout",
     "output_type": "stream",
     "text": [
      "Iteration 0 \t Loss: 2537004.750\n",
      "Iteration 100 \t Loss: 1631748.750\n",
      "Iteration 200 \t Loss: 1548024.875\n",
      "Iteration 300 \t Loss: 1512658.750\n",
      "Iteration 400 \t Loss: 1490910.375\n",
      "Iteration 500 \t Loss: 1477166.625\n",
      "Iteration 600 \t Loss: 1468469.375\n",
      "Iteration 700 \t Loss: 1462910.250\n",
      "Iteration 800 \t Loss: 1459262.375\n",
      "Iteration 900 \t Loss: 1456772.250\n",
      "Iteration 1000 \t Loss: 1454996.625\n",
      "Iteration 1100 \t Loss: 1453678.125\n",
      "Iteration 1200 \t Loss: 1452662.250\n",
      "Iteration 1300 \t Loss: 1451854.375\n",
      "Iteration 1400 \t Loss: 1451193.500\n",
      "Iteration 1500 \t Loss: 1450640.000\n",
      "Iteration 1600 \t Loss: 1450166.750\n",
      "Iteration 1700 \t Loss: 1449755.375\n",
      "Iteration 1800 \t Loss: 1449392.625\n",
      "Iteration 1900 \t Loss: 1449068.625\n",
      "Iteration 2000 \t Loss: 1448776.625\n",
      "Iteration 2100 \t Loss: 1448511.375\n",
      "Iteration 2200 \t Loss: 1448268.875\n",
      "Iteration 2300 \t Loss: 1448046.125\n",
      "Iteration 2400 \t Loss: 1447840.875\n",
      "Iteration 2500 \t Loss: 1447650.750\n",
      "Iteration 2600 \t Loss: 1447474.375\n",
      "Iteration 2700 \t Loss: 1447310.125\n",
      "Iteration 2800 \t Loss: 1447157.000\n",
      "Iteration 2900 \t Loss: 1447012.500\n",
      "Iteration 3000 \t Loss: 1446877.125\n",
      "Iteration 3100 \t Loss: 1446751.000\n",
      "Iteration 3200 \t Loss: 1446626.750\n",
      "Iteration 3300 \t Loss: 1446507.500\n",
      "Iteration 3400 \t Loss: 1446390.125\n",
      "Iteration 3500 \t Loss: 1446278.500\n",
      "Iteration 3600 \t Loss: 1446173.750\n",
      "Iteration 3700 \t Loss: 1446076.500\n",
      "Iteration 3800 \t Loss: 1445985.625\n",
      "Iteration 3900 \t Loss: 1445904.000\n"
     ]
    }
   ],
   "source": [
    "for iter in range(train_iters):\n",
    "    # optimizing\n",
    "    _, training_key = jrandom.split(training_key)\n",
    "    loss, grads = make_step(\n",
    "        latent_sde, kl_anneal_val=min(1.0, (iter + 1) / kl_anneal_iters)\n",
    "    )\n",
    "    loss = loss.item()\n",
    "    updates, opt_state = optim.update(grads, opt_state)\n",
    "    latent_sde = eqx.apply_updates(latent_sde, updates)\n",
    "    if iter % pause_freq == 0:\n",
    "        print(f\"Iteration {iter} \\t Loss: {loss:.3f}\")"
   ]
  },
  {
   "cell_type": "code",
   "execution_count": 12,
   "metadata": {
    "execution": {
     "iopub.execute_input": "2022-05-30T14:41:44.986498Z",
     "iopub.status.busy": "2022-05-30T14:41:44.986105Z",
     "iopub.status.idle": "2022-05-30T14:41:49.230606Z",
     "shell.execute_reply": "2022-05-30T14:41:49.228825Z"
    }
   },
   "outputs": [],
   "source": [
    "xs_sample = latent_sde.sample(batch_size=100, ts=ts, key=vis_key)"
   ]
  },
  {
   "cell_type": "code",
   "execution_count": 13,
   "metadata": {
    "execution": {
     "iopub.execute_input": "2022-05-30T14:41:49.236516Z",
     "iopub.status.busy": "2022-05-30T14:41:49.235963Z",
     "iopub.status.idle": "2022-05-30T14:41:50.325257Z",
     "shell.execute_reply": "2022-05-30T14:41:50.324628Z"
    }
   },
   "outputs": [
    {
     "data": {
      "image/png": "[encoded data removed]",
      "text/plain": [
       "<Figure size 432x288 with 1 Axes>"
      ]
     },
     "metadata": {
      "needs_background": "light"
     },
     "output_type": "display_data"
    }
   ],
   "source": [
    "visualize_data(xs_sample, num_samples=5)"
   ]
  },
  {
   "cell_type": "code",
   "execution_count": null,
   "metadata": {},
   "outputs": [],
   "source": []
  }
 ],
 "metadata": {
  "interpreter": {
   "hash": "8c8d412aa06dfe5a57d5321eae0d2c6b10a6b73b6f96b70a8518761ff5c11427"
  },
  "kernelspec": {
   "display_name": "Python 3 (ipykernel)",
   "language": "python",
   "name": "python3"
  },
  "language_info": {
   "codemirror_mode": {
    "name": "ipython",
    "version": 3
   },
   "file_extension": ".py",
   "mimetype": "text/x-python",
   "name": "python",
   "nbconvert_exporter": "python",
   "pygments_lexer": "ipython3",
   "version": "3.10.4"
  }
 },
 "nbformat": 4,
 "nbformat_minor": 2
}
